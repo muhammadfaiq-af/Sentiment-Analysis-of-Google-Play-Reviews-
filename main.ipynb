{
 "cells": [
  {
   "cell_type": "code",
   "execution_count": 1,
   "metadata": {
    "_kg_hide-input": true,
    "execution": {
     "iopub.execute_input": "2021-11-16T08:08:44.654187Z",
     "iopub.status.busy": "2021-11-16T08:08:44.653282Z",
     "iopub.status.idle": "2021-11-16T08:08:44.657140Z",
     "shell.execute_reply": "2021-11-16T08:08:44.656401Z",
     "shell.execute_reply.started": "2021-11-16T08:03:42.148292Z"
    },
    "id": "xCYd1cBpN_V9",
    "outputId": "ccb954d3-ad9e-4202-c1f9-e70c3c1ab877",
    "papermill": {
     "duration": 0.061565,
     "end_time": "2021-11-16T08:08:44.657307",
     "exception": false,
     "start_time": "2021-11-16T08:08:44.595742",
     "status": "completed"
    },
    "tags": []
   },
   "outputs": [],
   "source": [
    "import warnings\n",
    "warnings.filterwarnings(\"ignore\");"
   ]
  },
  {
   "cell_type": "code",
   "execution_count": 2,
   "metadata": {
    "execution": {
     "iopub.execute_input": "2021-11-16T08:08:44.751323Z",
     "iopub.status.busy": "2021-11-16T08:08:44.750330Z",
     "iopub.status.idle": "2021-11-16T08:08:44.754049Z",
     "shell.execute_reply": "2021-11-16T08:08:44.754676Z",
     "shell.execute_reply.started": "2021-11-16T08:03:42.163829Z"
    },
    "id": "OSfO0aBeOsVu",
    "papermill": {
     "duration": 0.052232,
     "end_time": "2021-11-16T08:08:44.754853",
     "exception": false,
     "start_time": "2021-11-16T08:08:44.702621",
     "status": "completed"
    },
    "tags": []
   },
   "outputs": [],
   "source": [
    "import pandas as pd"
   ]
  },
  {
   "cell_type": "code",
   "execution_count": 3,
   "metadata": {
    "execution": {
     "iopub.execute_input": "2021-11-16T08:08:44.848507Z",
     "iopub.status.busy": "2021-11-16T08:08:44.847541Z",
     "iopub.status.idle": "2021-11-16T08:08:45.107867Z",
     "shell.execute_reply": "2021-11-16T08:08:45.107348Z",
     "shell.execute_reply.started": "2021-11-16T08:03:42.172351Z"
    },
    "id": "nsNt1DuOO7AV",
    "outputId": "4a320411-b5bc-4e04-b642-a165982180ab",
    "papermill": {
     "duration": 0.308176,
     "end_time": "2021-11-16T08:08:45.108039",
     "exception": false,
     "start_time": "2021-11-16T08:08:44.799863",
     "status": "completed"
    },
    "tags": []
   },
   "outputs": [
    {
     "data": {
      "text/html": [
       "<div>\n",
       "<style scoped>\n",
       "    .dataframe tbody tr th:only-of-type {\n",
       "        vertical-align: middle;\n",
       "    }\n",
       "\n",
       "    .dataframe tbody tr th {\n",
       "        vertical-align: top;\n",
       "    }\n",
       "\n",
       "    .dataframe thead th {\n",
       "        text-align: right;\n",
       "    }\n",
       "</style>\n",
       "<table border=\"1\" class=\"dataframe\">\n",
       "  <thead>\n",
       "    <tr style=\"text-align: right;\">\n",
       "      <th></th>\n",
       "      <th>reviewId</th>\n",
       "      <th>userName</th>\n",
       "      <th>userImage</th>\n",
       "      <th>content</th>\n",
       "      <th>score</th>\n",
       "      <th>thumbsUpCount</th>\n",
       "      <th>reviewCreatedVersion</th>\n",
       "      <th>at</th>\n",
       "      <th>replyContent</th>\n",
       "      <th>repliedAt</th>\n",
       "      <th>sortOrder</th>\n",
       "      <th>appId</th>\n",
       "    </tr>\n",
       "  </thead>\n",
       "  <tbody>\n",
       "    <tr>\n",
       "      <th>0</th>\n",
       "      <td>gp:AOqpTOEhZuqSqqWnaKRgv-9ABYdajFUB0WugPGh-SG-...</td>\n",
       "      <td>Eric Tie</td>\n",
       "      <td>https://play-lh.googleusercontent.com/a-/AOh14...</td>\n",
       "      <td>I cannot open the app anymore</td>\n",
       "      <td>1</td>\n",
       "      <td>0</td>\n",
       "      <td>5.4.0.6</td>\n",
       "      <td>2020-10-27 21:24:41</td>\n",
       "      <td>NaN</td>\n",
       "      <td>NaN</td>\n",
       "      <td>newest</td>\n",
       "      <td>com.anydo</td>\n",
       "    </tr>\n",
       "    <tr>\n",
       "      <th>1</th>\n",
       "      <td>gp:AOqpTOH0WP4IQKBZ2LrdNmFy_YmpPCVrV3diEU9KGm3...</td>\n",
       "      <td>john alpha</td>\n",
       "      <td>https://play-lh.googleusercontent.com/a-/AOh14...</td>\n",
       "      <td>I have been begging for a refund from this app...</td>\n",
       "      <td>1</td>\n",
       "      <td>0</td>\n",
       "      <td>NaN</td>\n",
       "      <td>2020-10-27 14:03:28</td>\n",
       "      <td>Please note that from checking our records, yo...</td>\n",
       "      <td>2020-10-27 15:05:52</td>\n",
       "      <td>newest</td>\n",
       "      <td>com.anydo</td>\n",
       "    </tr>\n",
       "    <tr>\n",
       "      <th>2</th>\n",
       "      <td>gp:AOqpTOEMCkJB8Iq1p-r9dPwnSYadA5BkPWTf32Z1azu...</td>\n",
       "      <td>Sudhakar .S</td>\n",
       "      <td>https://play-lh.googleusercontent.com/a-/AOh14...</td>\n",
       "      <td>Very costly for the premium version (approx In...</td>\n",
       "      <td>1</td>\n",
       "      <td>0</td>\n",
       "      <td>NaN</td>\n",
       "      <td>2020-10-27 08:18:40</td>\n",
       "      <td>NaN</td>\n",
       "      <td>NaN</td>\n",
       "      <td>newest</td>\n",
       "      <td>com.anydo</td>\n",
       "    </tr>\n",
       "    <tr>\n",
       "      <th>3</th>\n",
       "      <td>gp:AOqpTOGFrUWuKGycpje8kszj3uwHN6tU_fd4gLVFy9z...</td>\n",
       "      <td>SKGflorida@bellsouth.net DAVID S</td>\n",
       "      <td>https://play-lh.googleusercontent.com/-75aK0WF...</td>\n",
       "      <td>Used to keep me organized, but all the 2020 UP...</td>\n",
       "      <td>1</td>\n",
       "      <td>0</td>\n",
       "      <td>NaN</td>\n",
       "      <td>2020-10-26 13:28:07</td>\n",
       "      <td>What do you find troublesome about the update?...</td>\n",
       "      <td>2020-10-26 14:58:29</td>\n",
       "      <td>newest</td>\n",
       "      <td>com.anydo</td>\n",
       "    </tr>\n",
       "    <tr>\n",
       "      <th>4</th>\n",
       "      <td>gp:AOqpTOHls7DW8wmDFzTkHwxuqFkdNQtKHmO6Pt9jhZE...</td>\n",
       "      <td>Louann Stoker</td>\n",
       "      <td>https://play-lh.googleusercontent.com/-pBcY_Z-...</td>\n",
       "      <td>Dan Birthday Oct 28</td>\n",
       "      <td>1</td>\n",
       "      <td>0</td>\n",
       "      <td>5.6.0.7</td>\n",
       "      <td>2020-10-26 06:10:50</td>\n",
       "      <td>NaN</td>\n",
       "      <td>NaN</td>\n",
       "      <td>newest</td>\n",
       "      <td>com.anydo</td>\n",
       "    </tr>\n",
       "  </tbody>\n",
       "</table>\n",
       "</div>"
      ],
      "text/plain": [
       "                                            reviewId  \\\n",
       "0  gp:AOqpTOEhZuqSqqWnaKRgv-9ABYdajFUB0WugPGh-SG-...   \n",
       "1  gp:AOqpTOH0WP4IQKBZ2LrdNmFy_YmpPCVrV3diEU9KGm3...   \n",
       "2  gp:AOqpTOEMCkJB8Iq1p-r9dPwnSYadA5BkPWTf32Z1azu...   \n",
       "3  gp:AOqpTOGFrUWuKGycpje8kszj3uwHN6tU_fd4gLVFy9z...   \n",
       "4  gp:AOqpTOHls7DW8wmDFzTkHwxuqFkdNQtKHmO6Pt9jhZE...   \n",
       "\n",
       "                           userName  \\\n",
       "0                          Eric Tie   \n",
       "1                        john alpha   \n",
       "2                       Sudhakar .S   \n",
       "3  SKGflorida@bellsouth.net DAVID S   \n",
       "4                     Louann Stoker   \n",
       "\n",
       "                                           userImage  \\\n",
       "0  https://play-lh.googleusercontent.com/a-/AOh14...   \n",
       "1  https://play-lh.googleusercontent.com/a-/AOh14...   \n",
       "2  https://play-lh.googleusercontent.com/a-/AOh14...   \n",
       "3  https://play-lh.googleusercontent.com/-75aK0WF...   \n",
       "4  https://play-lh.googleusercontent.com/-pBcY_Z-...   \n",
       "\n",
       "                                             content  score  thumbsUpCount  \\\n",
       "0                      I cannot open the app anymore      1              0   \n",
       "1  I have been begging for a refund from this app...      1              0   \n",
       "2  Very costly for the premium version (approx In...      1              0   \n",
       "3  Used to keep me organized, but all the 2020 UP...      1              0   \n",
       "4                                Dan Birthday Oct 28      1              0   \n",
       "\n",
       "  reviewCreatedVersion                   at  \\\n",
       "0              5.4.0.6  2020-10-27 21:24:41   \n",
       "1                  NaN  2020-10-27 14:03:28   \n",
       "2                  NaN  2020-10-27 08:18:40   \n",
       "3                  NaN  2020-10-26 13:28:07   \n",
       "4              5.6.0.7  2020-10-26 06:10:50   \n",
       "\n",
       "                                        replyContent            repliedAt  \\\n",
       "0                                                NaN                  NaN   \n",
       "1  Please note that from checking our records, yo...  2020-10-27 15:05:52   \n",
       "2                                                NaN                  NaN   \n",
       "3  What do you find troublesome about the update?...  2020-10-26 14:58:29   \n",
       "4                                                NaN                  NaN   \n",
       "\n",
       "  sortOrder      appId  \n",
       "0    newest  com.anydo  \n",
       "1    newest  com.anydo  \n",
       "2    newest  com.anydo  \n",
       "3    newest  com.anydo  \n",
       "4    newest  com.anydo  "
      ]
     },
     "execution_count": 3,
     "metadata": {},
     "output_type": "execute_result"
    }
   ],
   "source": [
    "PS_reviews_data = pd.read_csv('reviews.csv')\n",
    "PS_reviews_data.head()"
   ]
  },
  {
   "cell_type": "markdown",
   "metadata": {
    "id": "OrmeSB9sPUvh",
    "papermill": {
     "duration": 0.045339,
     "end_time": "2021-11-16T08:08:45.199462",
     "exception": false,
     "start_time": "2021-11-16T08:08:45.154123",
     "status": "completed"
    },
    "tags": []
   },
   "source": [
    "Before data pre-processing we will drop columns that are not required."
   ]
  },
  {
   "cell_type": "code",
   "execution_count": 4,
   "metadata": {
    "execution": {
     "iopub.execute_input": "2021-11-16T08:08:45.353045Z",
     "iopub.status.busy": "2021-11-16T08:08:45.352084Z",
     "iopub.status.idle": "2021-11-16T08:08:45.368483Z",
     "shell.execute_reply": "2021-11-16T08:08:45.369008Z",
     "shell.execute_reply.started": "2021-11-16T08:03:42.376334Z"
    },
    "id": "sbl-4YygO7Hn",
    "outputId": "eb4c45bf-83b5-4691-c632-841a99ee7b94",
    "papermill": {
     "duration": 0.123772,
     "end_time": "2021-11-16T08:08:45.369183",
     "exception": false,
     "start_time": "2021-11-16T08:08:45.245411",
     "status": "completed"
    },
    "tags": []
   },
   "outputs": [
    {
     "data": {
      "text/html": [
       "<div>\n",
       "<style scoped>\n",
       "    .dataframe tbody tr th:only-of-type {\n",
       "        vertical-align: middle;\n",
       "    }\n",
       "\n",
       "    .dataframe tbody tr th {\n",
       "        vertical-align: top;\n",
       "    }\n",
       "\n",
       "    .dataframe thead th {\n",
       "        text-align: right;\n",
       "    }\n",
       "</style>\n",
       "<table border=\"1\" class=\"dataframe\">\n",
       "  <thead>\n",
       "    <tr style=\"text-align: right;\">\n",
       "      <th></th>\n",
       "      <th>content</th>\n",
       "      <th>score</th>\n",
       "    </tr>\n",
       "  </thead>\n",
       "  <tbody>\n",
       "    <tr>\n",
       "      <th>0</th>\n",
       "      <td>I cannot open the app anymore</td>\n",
       "      <td>1</td>\n",
       "    </tr>\n",
       "    <tr>\n",
       "      <th>1</th>\n",
       "      <td>I have been begging for a refund from this app...</td>\n",
       "      <td>1</td>\n",
       "    </tr>\n",
       "    <tr>\n",
       "      <th>2</th>\n",
       "      <td>Very costly for the premium version (approx In...</td>\n",
       "      <td>1</td>\n",
       "    </tr>\n",
       "    <tr>\n",
       "      <th>3</th>\n",
       "      <td>Used to keep me organized, but all the 2020 UP...</td>\n",
       "      <td>1</td>\n",
       "    </tr>\n",
       "    <tr>\n",
       "      <th>4</th>\n",
       "      <td>Dan Birthday Oct 28</td>\n",
       "      <td>1</td>\n",
       "    </tr>\n",
       "  </tbody>\n",
       "</table>\n",
       "</div>"
      ],
      "text/plain": [
       "                                             content  score\n",
       "0                      I cannot open the app anymore      1\n",
       "1  I have been begging for a refund from this app...      1\n",
       "2  Very costly for the premium version (approx In...      1\n",
       "3  Used to keep me organized, but all the 2020 UP...      1\n",
       "4                                Dan Birthday Oct 28      1"
      ]
     },
     "execution_count": 4,
     "metadata": {},
     "output_type": "execute_result"
    }
   ],
   "source": [
    "PS_reviews_data = PS_reviews_data[['content','score']]\n",
    "PS_reviews_data.head()"
   ]
  },
  {
   "cell_type": "code",
   "execution_count": 5,
   "metadata": {
    "execution": {
     "iopub.execute_input": "2021-11-16T08:08:45.465481Z",
     "iopub.status.busy": "2021-11-16T08:08:45.464479Z",
     "iopub.status.idle": "2021-11-16T08:08:45.474007Z",
     "shell.execute_reply": "2021-11-16T08:08:45.474600Z",
     "shell.execute_reply.started": "2021-11-16T08:03:42.391566Z"
    },
    "id": "Z06IyG0IO7K7",
    "outputId": "c1bfc32a-e981-45fb-811d-ed4a886065de",
    "papermill": {
     "duration": 0.059391,
     "end_time": "2021-11-16T08:08:45.474782",
     "exception": false,
     "start_time": "2021-11-16T08:08:45.415391",
     "status": "completed"
    },
    "tags": []
   },
   "outputs": [
    {
     "data": {
      "text/plain": [
       "content    0\n",
       "score      0\n",
       "dtype: int64"
      ]
     },
     "execution_count": 5,
     "metadata": {},
     "output_type": "execute_result"
    }
   ],
   "source": [
    "PS_reviews_data.isnull().sum()"
   ]
  },
  {
   "cell_type": "markdown",
   "metadata": {
    "id": "2zmYShw-P6ds",
    "papermill": {
     "duration": 0.046373,
     "end_time": "2021-11-16T08:08:45.567714",
     "exception": false,
     "start_time": "2021-11-16T08:08:45.521341",
     "status": "completed"
    },
    "tags": []
   },
   "source": [
    "There is no null values in data."
   ]
  },
  {
   "cell_type": "code",
   "execution_count": 6,
   "metadata": {
    "execution": {
     "iopub.execute_input": "2021-11-16T08:08:45.664719Z",
     "iopub.status.busy": "2021-11-16T08:08:45.663741Z",
     "iopub.status.idle": "2021-11-16T08:08:46.651033Z",
     "shell.execute_reply": "2021-11-16T08:08:46.650290Z",
     "shell.execute_reply.started": "2021-11-16T08:03:42.420968Z"
    },
    "id": "Wc6r01vNQGo6",
    "papermill": {
     "duration": 1.036787,
     "end_time": "2021-11-16T08:08:46.651180",
     "exception": false,
     "start_time": "2021-11-16T08:08:45.614393",
     "status": "completed"
    },
    "tags": []
   },
   "outputs": [],
   "source": [
    "import seaborn as sns"
   ]
  },
  {
   "cell_type": "code",
   "execution_count": 7,
   "metadata": {
    "execution": {
     "iopub.execute_input": "2021-11-16T08:08:46.750874Z",
     "iopub.status.busy": "2021-11-16T08:08:46.749745Z",
     "iopub.status.idle": "2021-11-16T08:08:47.118101Z",
     "shell.execute_reply": "2021-11-16T08:08:47.117212Z",
     "shell.execute_reply.started": "2021-11-16T08:03:42.430478Z"
    },
    "id": "WnLdMVAoO7NS",
    "outputId": "15ee1cc5-e18b-4298-fca5-fbcf3d3781fb",
    "papermill": {
     "duration": 0.420155,
     "end_time": "2021-11-16T08:08:47.118265",
     "exception": false,
     "start_time": "2021-11-16T08:08:46.698110",
     "status": "completed"
    },
    "tags": []
   },
   "outputs": [
    {
     "data": {
      "text/plain": [
       "<matplotlib.axes._subplots.AxesSubplot at 0x226c7f276c8>"
      ]
     },
     "execution_count": 7,
     "metadata": {},
     "output_type": "execute_result"
    },
    {
     "data": {
      "image/png": "[encoded data removed]",
      "text/plain": [
       "<Figure size 432x288 with 1 Axes>"
      ]
     },
     "metadata": {
      "needs_background": "light"
     },
     "output_type": "display_data"
    }
   ],
   "source": [
    "sns.barplot(x=PS_reviews_data.score.value_counts().index,y=PS_reviews_data.score.value_counts())"
   ]
  },
  {
   "cell_type": "markdown",
   "metadata": {
    "id": "iw1QpEENQkuQ",
    "papermill": {
     "duration": 0.047041,
     "end_time": "2021-11-16T08:08:47.213856",
     "exception": false,
     "start_time": "2021-11-16T08:08:47.166815",
     "status": "completed"
    },
    "tags": []
   },
   "source": [
    "We will segregate the data into 2 groups for better analysis,\n",
    "```\n",
    "1. Rating from 1-2 will be negative(0)\n",
    "2. Rating from 4-5 will be positive(1)\n",
    "```\n",
    "\n"
   ]
  },
  {
   "cell_type": "code",
   "execution_count": 8,
   "metadata": {
    "execution": {
     "iopub.execute_input": "2021-11-16T08:08:47.312144Z",
     "iopub.status.busy": "2021-11-16T08:08:47.311525Z",
     "iopub.status.idle": "2021-11-16T08:08:48.216222Z",
     "shell.execute_reply": "2021-11-16T08:08:48.216706Z",
     "shell.execute_reply.started": "2021-11-16T08:03:42.613615Z"
    },
    "id": "-Mb28_BmpJVl",
    "outputId": "0c77314d-d7b6-411e-cc81-65cd83245821",
    "papermill": {
     "duration": 0.955502,
     "end_time": "2021-11-16T08:08:48.216879",
     "exception": false,
     "start_time": "2021-11-16T08:08:47.261377",
     "status": "completed"
    },
    "tags": []
   },
   "outputs": [
    {
     "name": "stderr",
     "output_type": "stream",
     "text": [
      "[nltk_data] Downloading package vader_lexicon to\n",
      "[nltk_data]     C:\\Users\\faisa\\AppData\\Roaming\\nltk_data...\n"
     ]
    },
    {
     "data": {
      "text/plain": [
       "True"
      ]
     },
     "execution_count": 8,
     "metadata": {},
     "output_type": "execute_result"
    }
   ],
   "source": [
    "import nltk\n",
    "nltk.download('vader_lexicon')"
   ]
  },
  {
   "cell_type": "code",
   "execution_count": 9,
   "metadata": {
    "execution": {
     "iopub.execute_input": "2021-11-16T08:08:48.316997Z",
     "iopub.status.busy": "2021-11-16T08:08:48.316358Z",
     "iopub.status.idle": "2021-11-16T08:08:48.332090Z",
     "shell.execute_reply": "2021-11-16T08:08:48.332654Z",
     "shell.execute_reply.started": "2021-11-16T08:03:42.623453Z"
    },
    "id": "0jzkvrqupLbV",
    "papermill": {
     "duration": 0.067287,
     "end_time": "2021-11-16T08:08:48.332831",
     "exception": false,
     "start_time": "2021-11-16T08:08:48.265544",
     "status": "completed"
    },
    "tags": []
   },
   "outputs": [],
   "source": [
    "from nltk.sentiment.vader import SentimentIntensityAnalyzer as SIA"
   ]
  },
  {
   "cell_type": "code",
   "execution_count": 10,
   "metadata": {
    "execution": {
     "iopub.execute_input": "2021-11-16T08:08:48.433570Z",
     "iopub.status.busy": "2021-11-16T08:08:48.432890Z",
     "iopub.status.idle": "2021-11-16T08:08:48.437295Z",
     "shell.execute_reply": "2021-11-16T08:08:48.437777Z",
     "shell.execute_reply.started": "2021-11-16T08:03:42.634841Z"
    },
    "id": "A4osTEfFpXJ6",
    "papermill": {
     "duration": 0.056283,
     "end_time": "2021-11-16T08:08:48.437937",
     "exception": false,
     "start_time": "2021-11-16T08:08:48.381654",
     "status": "completed"
    },
    "tags": []
   },
   "outputs": [],
   "source": [
    "def analyze_sentiment(data):\n",
    "    analysis = SIA().polarity_scores(data)\n",
    "    if analysis['compound'] > 0:    # Converting rating 3 with positive sentiment as group 1\n",
    "        return 'Positive'\n",
    "    elif analysis['compound'] == 0: # Converting rating 3 with neutral sentiment as group to drop\n",
    "        return 'Neutral'\n",
    "    else:                           # Converting rating 3 with negative sentiment as group 0\n",
    "        return 'Negative'"
   ]
  },
  {
   "cell_type": "code",
   "execution_count": 11,
   "metadata": {
    "execution": {
     "iopub.execute_input": "2021-11-16T08:08:48.538301Z",
     "iopub.status.busy": "2021-11-16T08:08:48.537629Z",
     "iopub.status.idle": "2021-11-16T08:09:05.969420Z",
     "shell.execute_reply": "2021-11-16T08:09:05.968701Z",
     "shell.execute_reply.started": "2021-11-16T08:03:42.652119Z"
    },
    "id": "qdKpDi4PphoK",
    "papermill": {
     "duration": 17.483086,
     "end_time": "2021-11-16T08:09:05.969568",
     "exception": false,
     "start_time": "2021-11-16T08:08:48.486482",
     "status": "completed"
    },
    "tags": []
   },
   "outputs": [],
   "source": [
    "PS_reviews_data['sentiment_neutral_ratings'] = PS_reviews_data[PS_reviews_data.score == 3].content.apply(analyze_sentiment)"
   ]
  },
  {
   "cell_type": "code",
   "execution_count": 12,
   "metadata": {
    "execution": {
     "iopub.execute_input": "2021-11-16T08:09:06.072339Z",
     "iopub.status.busy": "2021-11-16T08:09:06.071641Z",
     "iopub.status.idle": "2021-11-16T08:09:06.081464Z",
     "shell.execute_reply": "2021-11-16T08:09:06.082041Z",
     "shell.execute_reply.started": "2021-11-16T08:04:04.208136Z"
    },
    "id": "N0PSnyHQqHvz",
    "outputId": "e6dae4c7-b47d-4d40-a85a-12d9af9c6f3c",
    "papermill": {
     "duration": 0.06361,
     "end_time": "2021-11-16T08:09:06.082222",
     "exception": false,
     "start_time": "2021-11-16T08:09:06.018612",
     "status": "completed"
    },
    "tags": []
   },
   "outputs": [
    {
     "data": {
      "text/html": [
       "<div>\n",
       "<style scoped>\n",
       "    .dataframe tbody tr th:only-of-type {\n",
       "        vertical-align: middle;\n",
       "    }\n",
       "\n",
       "    .dataframe tbody tr th {\n",
       "        vertical-align: top;\n",
       "    }\n",
       "\n",
       "    .dataframe thead th {\n",
       "        text-align: right;\n",
       "    }\n",
       "</style>\n",
       "<table border=\"1\" class=\"dataframe\">\n",
       "  <thead>\n",
       "    <tr style=\"text-align: right;\">\n",
       "      <th></th>\n",
       "      <th>content</th>\n",
       "      <th>score</th>\n",
       "      <th>sentiment_neutral_ratings</th>\n",
       "    </tr>\n",
       "  </thead>\n",
       "  <tbody>\n",
       "    <tr>\n",
       "      <th>400</th>\n",
       "      <td>This still works pretty well, but I'm not a fa...</td>\n",
       "      <td>3</td>\n",
       "      <td>Positive</td>\n",
       "    </tr>\n",
       "    <tr>\n",
       "      <th>401</th>\n",
       "      <td>Good app. Annoying pop up every morning on my ...</td>\n",
       "      <td>3</td>\n",
       "      <td>Positive</td>\n",
       "    </tr>\n",
       "    <tr>\n",
       "      <th>402</th>\n",
       "      <td>I haven't used they made an effort from there ...</td>\n",
       "      <td>3</td>\n",
       "      <td>Negative</td>\n",
       "    </tr>\n",
       "    <tr>\n",
       "      <th>403</th>\n",
       "      <td>29.9. Nothing new, I've already reconciled to ...</td>\n",
       "      <td>3</td>\n",
       "      <td>Positive</td>\n",
       "    </tr>\n",
       "    <tr>\n",
       "      <th>404</th>\n",
       "      <td>I've been a satisfied user of Any.do since Mar...</td>\n",
       "      <td>3</td>\n",
       "      <td>Positive</td>\n",
       "    </tr>\n",
       "  </tbody>\n",
       "</table>\n",
       "</div>"
      ],
      "text/plain": [
       "                                               content  score  \\\n",
       "400  This still works pretty well, but I'm not a fa...      3   \n",
       "401  Good app. Annoying pop up every morning on my ...      3   \n",
       "402  I haven't used they made an effort from there ...      3   \n",
       "403  29.9. Nothing new, I've already reconciled to ...      3   \n",
       "404  I've been a satisfied user of Any.do since Mar...      3   \n",
       "\n",
       "    sentiment_neutral_ratings  \n",
       "400                  Positive  \n",
       "401                  Positive  \n",
       "402                  Negative  \n",
       "403                  Positive  \n",
       "404                  Positive  "
      ]
     },
     "execution_count": 12,
     "metadata": {},
     "output_type": "execute_result"
    }
   ],
   "source": [
    "PS_reviews_data[PS_reviews_data.score == 3].head()"
   ]
  },
  {
   "cell_type": "code",
   "execution_count": 13,
   "metadata": {
    "execution": {
     "iopub.execute_input": "2021-11-16T08:09:06.184691Z",
     "iopub.status.busy": "2021-11-16T08:09:06.184000Z",
     "iopub.status.idle": "2021-11-16T08:09:06.194113Z",
     "shell.execute_reply": "2021-11-16T08:09:06.194712Z",
     "shell.execute_reply.started": "2021-11-16T08:04:04.222875Z"
    },
    "id": "5IRoP88dqneL",
    "outputId": "3520be2b-37ea-42d1-d6d8-7c8dbd4daa98",
    "papermill": {
     "duration": 0.062502,
     "end_time": "2021-11-16T08:09:06.194895",
     "exception": false,
     "start_time": "2021-11-16T08:09:06.132393",
     "status": "completed"
    },
    "tags": []
   },
   "outputs": [
    {
     "data": {
      "text/html": [
       "<div>\n",
       "<style scoped>\n",
       "    .dataframe tbody tr th:only-of-type {\n",
       "        vertical-align: middle;\n",
       "    }\n",
       "\n",
       "    .dataframe tbody tr th {\n",
       "        vertical-align: top;\n",
       "    }\n",
       "\n",
       "    .dataframe thead th {\n",
       "        text-align: right;\n",
       "    }\n",
       "</style>\n",
       "<table border=\"1\" class=\"dataframe\">\n",
       "  <thead>\n",
       "    <tr style=\"text-align: right;\">\n",
       "      <th></th>\n",
       "      <th>content</th>\n",
       "      <th>score</th>\n",
       "      <th>sentiment_neutral_ratings</th>\n",
       "    </tr>\n",
       "  </thead>\n",
       "  <tbody>\n",
       "    <tr>\n",
       "      <th>426</th>\n",
       "      <td>Too many options and gets too fancy for an app...</td>\n",
       "      <td>3</td>\n",
       "      <td>Neutral</td>\n",
       "    </tr>\n",
       "    <tr>\n",
       "      <th>429</th>\n",
       "      <td>Way too expensive; if there was a monthly opti...</td>\n",
       "      <td>3</td>\n",
       "      <td>Neutral</td>\n",
       "    </tr>\n",
       "    <tr>\n",
       "      <th>438</th>\n",
       "      <td>Hyyy</td>\n",
       "      <td>3</td>\n",
       "      <td>Neutral</td>\n",
       "    </tr>\n",
       "    <tr>\n",
       "      <th>441</th>\n",
       "      <td>Don't know</td>\n",
       "      <td>3</td>\n",
       "      <td>Neutral</td>\n",
       "    </tr>\n",
       "    <tr>\n",
       "      <th>445</th>\n",
       "      <td>We need a monthly payment terms. Currently it ...</td>\n",
       "      <td>3</td>\n",
       "      <td>Neutral</td>\n",
       "    </tr>\n",
       "  </tbody>\n",
       "</table>\n",
       "</div>"
      ],
      "text/plain": [
       "                                               content  score  \\\n",
       "426  Too many options and gets too fancy for an app...      3   \n",
       "429  Way too expensive; if there was a monthly opti...      3   \n",
       "438                                               Hyyy      3   \n",
       "441                                         Don't know      3   \n",
       "445  We need a monthly payment terms. Currently it ...      3   \n",
       "\n",
       "    sentiment_neutral_ratings  \n",
       "426                   Neutral  \n",
       "429                   Neutral  \n",
       "438                   Neutral  \n",
       "441                   Neutral  \n",
       "445                   Neutral  "
      ]
     },
     "execution_count": 13,
     "metadata": {},
     "output_type": "execute_result"
    }
   ],
   "source": [
    "PS_reviews_data[PS_reviews_data.sentiment_neutral_ratings == 'Neutral'].head() # Drop these records"
   ]
  },
  {
   "cell_type": "code",
   "execution_count": 14,
   "metadata": {
    "execution": {
     "iopub.execute_input": "2021-11-16T08:09:06.297578Z",
     "iopub.status.busy": "2021-11-16T08:09:06.296953Z",
     "iopub.status.idle": "2021-11-16T08:09:06.302394Z",
     "shell.execute_reply": "2021-11-16T08:09:06.303032Z",
     "shell.execute_reply.started": "2021-11-16T08:04:04.251990Z"
    },
    "id": "X4SyK0dUlRHM",
    "papermill": {
     "duration": 0.058729,
     "end_time": "2021-11-16T08:09:06.303221",
     "exception": false,
     "start_time": "2021-11-16T08:09:06.244492",
     "status": "completed"
    },
    "tags": []
   },
   "outputs": [],
   "source": [
    "PS_reviews_data = PS_reviews_data[PS_reviews_data.sentiment_neutral_ratings != 'Neutral'] # Discarding neutral records"
   ]
  },
  {
   "cell_type": "code",
   "execution_count": 15,
   "metadata": {
    "execution": {
     "iopub.execute_input": "2021-11-16T08:09:06.406804Z",
     "iopub.status.busy": "2021-11-16T08:09:06.406186Z",
     "iopub.status.idle": "2021-11-16T08:09:06.410409Z",
     "shell.execute_reply": "2021-11-16T08:09:06.411014Z",
     "shell.execute_reply.started": "2021-11-16T08:04:04.266217Z"
    },
    "id": "KS_G0rdsRMkV",
    "papermill": {
     "duration": 0.057892,
     "end_time": "2021-11-16T08:09:06.411175",
     "exception": false,
     "start_time": "2021-11-16T08:09:06.353283",
     "status": "completed"
    },
    "tags": []
   },
   "outputs": [],
   "source": [
    "def rating_seg(df):\n",
    "  score_ = 0\n",
    "  if df['score'] <= 2:\n",
    "    score_ = 0\n",
    "  elif df['score'] == 3:\n",
    "    if df['sentiment_neutral_ratings'] == 'Positive':\n",
    "      score_ = 0\n",
    "    else:\n",
    "      score_ = 1\n",
    "  else:\n",
    "    score_ = 1\n",
    "  return score_\n"
   ]
  },
  {
   "cell_type": "code",
   "execution_count": 16,
   "metadata": {
    "execution": {
     "iopub.execute_input": "2021-11-16T08:09:06.541346Z",
     "iopub.status.busy": "2021-11-16T08:09:06.539191Z",
     "iopub.status.idle": "2021-11-16T08:09:06.782744Z",
     "shell.execute_reply": "2021-11-16T08:09:06.783345Z",
     "shell.execute_reply.started": "2021-11-16T08:04:04.282917Z"
    },
    "id": "PM9zfhSUO7VV",
    "outputId": "63bd87d3-40f4-4d9b-ada6-48bd53f55ec5",
    "papermill": {
     "duration": 0.311291,
     "end_time": "2021-11-16T08:09:06.783520",
     "exception": false,
     "start_time": "2021-11-16T08:09:06.472229",
     "status": "completed"
    },
    "tags": []
   },
   "outputs": [
    {
     "data": {
      "text/html": [
       "<div>\n",
       "<style scoped>\n",
       "    .dataframe tbody tr th:only-of-type {\n",
       "        vertical-align: middle;\n",
       "    }\n",
       "\n",
       "    .dataframe tbody tr th {\n",
       "        vertical-align: top;\n",
       "    }\n",
       "\n",
       "    .dataframe thead th {\n",
       "        text-align: right;\n",
       "    }\n",
       "</style>\n",
       "<table border=\"1\" class=\"dataframe\">\n",
       "  <thead>\n",
       "    <tr style=\"text-align: right;\">\n",
       "      <th></th>\n",
       "      <th>score</th>\n",
       "      <th>new_score</th>\n",
       "    </tr>\n",
       "  </thead>\n",
       "  <tbody>\n",
       "    <tr>\n",
       "      <th>10215</th>\n",
       "      <td>4</td>\n",
       "      <td>1</td>\n",
       "    </tr>\n",
       "    <tr>\n",
       "      <th>12202</th>\n",
       "      <td>4</td>\n",
       "      <td>1</td>\n",
       "    </tr>\n",
       "    <tr>\n",
       "      <th>7163</th>\n",
       "      <td>2</td>\n",
       "      <td>0</td>\n",
       "    </tr>\n",
       "    <tr>\n",
       "      <th>10546</th>\n",
       "      <td>5</td>\n",
       "      <td>1</td>\n",
       "    </tr>\n",
       "    <tr>\n",
       "      <th>4967</th>\n",
       "      <td>2</td>\n",
       "      <td>0</td>\n",
       "    </tr>\n",
       "  </tbody>\n",
       "</table>\n",
       "</div>"
      ],
      "text/plain": [
       "       score  new_score\n",
       "10215      4          1\n",
       "12202      4          1\n",
       "7163       2          0\n",
       "10546      5          1\n",
       "4967       2          0"
      ]
     },
     "execution_count": 16,
     "metadata": {},
     "output_type": "execute_result"
    }
   ],
   "source": [
    "PS_reviews_data['new_score'] = PS_reviews_data.apply(rating_seg, axis=1)\n",
    "PS_reviews_data[['score','new_score']].sample(frac=1.0).head() # verifying data"
   ]
  },
  {
   "cell_type": "code",
   "execution_count": 17,
   "metadata": {
    "execution": {
     "iopub.execute_input": "2021-11-16T08:09:06.889293Z",
     "iopub.status.busy": "2021-11-16T08:09:06.888566Z",
     "iopub.status.idle": "2021-11-16T08:09:06.893397Z",
     "shell.execute_reply": "2021-11-16T08:09:06.893867Z",
     "shell.execute_reply.started": "2021-11-16T08:04:04.448623Z"
    },
    "papermill": {
     "duration": 0.060329,
     "end_time": "2021-11-16T08:09:06.894057",
     "exception": false,
     "start_time": "2021-11-16T08:09:06.833728",
     "status": "completed"
    },
    "tags": []
   },
   "outputs": [],
   "source": [
    "PS_reviews_data.drop(['sentiment_neutral_ratings'],inplace=True,axis=1)"
   ]
  },
  {
   "cell_type": "markdown",
   "metadata": {
    "id": "-ej8QmcsR_6s",
    "papermill": {
     "duration": 0.051909,
     "end_time": "2021-11-16T08:09:06.996657",
     "exception": false,
     "start_time": "2021-11-16T08:09:06.944748",
     "status": "completed"
    },
    "tags": []
   },
   "source": [
    "# Data Pre-Processing\n",
    "\n",
    "ML models require data to be in numeric format, since we are dealinng with textual data, we will have to clean textual data and then convert it into numeric format.\n",
    "\n",
    "Below are the steps to clean any textual data,"
   ]
  },
  {
   "cell_type": "markdown",
   "metadata": {
    "id": "A6QLPLDdSV1E",
    "papermill": {
     "duration": 0.050921,
     "end_time": "2021-11-16T08:09:07.098109",
     "exception": false,
     "start_time": "2021-11-16T08:09:07.047188",
     "status": "completed"
    },
    "tags": []
   },
   "source": [
    "## 1. Replacing/Dropping NULL values"
   ]
  },
  {
   "cell_type": "code",
   "execution_count": 18,
   "metadata": {
    "execution": {
     "iopub.execute_input": "2021-11-16T08:09:07.202263Z",
     "iopub.status.busy": "2021-11-16T08:09:07.201560Z",
     "iopub.status.idle": "2021-11-16T08:09:07.210259Z",
     "shell.execute_reply": "2021-11-16T08:09:07.210783Z",
     "shell.execute_reply.started": "2021-11-16T08:04:04.457591Z"
    },
    "id": "N9X1IckCSVVm",
    "outputId": "2a2cec2f-8120-4506-8315-1e5bd8fbe455",
    "papermill": {
     "duration": 0.061752,
     "end_time": "2021-11-16T08:09:07.210946",
     "exception": false,
     "start_time": "2021-11-16T08:09:07.149194",
     "status": "completed"
    },
    "tags": []
   },
   "outputs": [
    {
     "data": {
      "text/plain": [
       "content      0\n",
       "score        0\n",
       "new_score    0\n",
       "dtype: int64"
      ]
     },
     "execution_count": 18,
     "metadata": {},
     "output_type": "execute_result"
    }
   ],
   "source": [
    "PS_reviews_data.isnull().sum()\n",
    "# Since our data has no null values will be skip this step"
   ]
  },
  {
   "cell_type": "markdown",
   "metadata": {
    "id": "9QW8GR8vSlJw",
    "papermill": {
     "duration": 0.049524,
     "end_time": "2021-11-16T08:09:07.310334",
     "exception": false,
     "start_time": "2021-11-16T08:09:07.260810",
     "status": "completed"
    },
    "tags": []
   },
   "source": [
    "## 2. Converting to LOWER case"
   ]
  },
  {
   "cell_type": "code",
   "execution_count": 19,
   "metadata": {
    "execution": {
     "iopub.execute_input": "2021-11-16T08:09:07.414116Z",
     "iopub.status.busy": "2021-11-16T08:09:07.413358Z",
     "iopub.status.idle": "2021-11-16T08:09:07.418969Z",
     "shell.execute_reply": "2021-11-16T08:09:07.419552Z",
     "shell.execute_reply.started": "2021-11-16T08:04:04.481742Z"
    },
    "id": "2hPfQzNpR97T",
    "outputId": "d66016be-1b07-4100-a7f0-9bd5ff49e5c5",
    "papermill": {
     "duration": 0.059502,
     "end_time": "2021-11-16T08:09:07.419738",
     "exception": false,
     "start_time": "2021-11-16T08:09:07.360236",
     "status": "completed"
    },
    "tags": []
   },
   "outputs": [
    {
     "data": {
      "text/plain": [
       "0                        I cannot open the app anymore\n",
       "1    I have been begging for a refund from this app...\n",
       "2    Very costly for the premium version (approx In...\n",
       "3    Used to keep me organized, but all the 2020 UP...\n",
       "4                                  Dan Birthday Oct 28\n",
       "Name: content, dtype: object"
      ]
     },
     "execution_count": 19,
     "metadata": {},
     "output_type": "execute_result"
    }
   ],
   "source": [
    "PS_reviews_data['content'].head()\n",
    "# from below data we can verify that our data has uppercase letters, we will convert our data in lower case"
   ]
  },
  {
   "cell_type": "code",
   "execution_count": 20,
   "metadata": {
    "execution": {
     "iopub.execute_input": "2021-11-16T08:09:07.526049Z",
     "iopub.status.busy": "2021-11-16T08:09:07.525348Z",
     "iopub.status.idle": "2021-11-16T08:09:07.547665Z",
     "shell.execute_reply": "2021-11-16T08:09:07.548242Z",
     "shell.execute_reply.started": "2021-11-16T08:04:04.497406Z"
    },
    "id": "6zrKiZhDO7X5",
    "outputId": "e6fc3f3c-6771-4ffb-f2b7-97e26399bd68",
    "papermill": {
     "duration": 0.076959,
     "end_time": "2021-11-16T08:09:07.548418",
     "exception": false,
     "start_time": "2021-11-16T08:09:07.471459",
     "status": "completed"
    },
    "tags": []
   },
   "outputs": [
    {
     "data": {
      "text/html": [
       "<div>\n",
       "<style scoped>\n",
       "    .dataframe tbody tr th:only-of-type {\n",
       "        vertical-align: middle;\n",
       "    }\n",
       "\n",
       "    .dataframe tbody tr th {\n",
       "        vertical-align: top;\n",
       "    }\n",
       "\n",
       "    .dataframe thead th {\n",
       "        text-align: right;\n",
       "    }\n",
       "</style>\n",
       "<table border=\"1\" class=\"dataframe\">\n",
       "  <thead>\n",
       "    <tr style=\"text-align: right;\">\n",
       "      <th></th>\n",
       "      <th>content</th>\n",
       "      <th>new_content</th>\n",
       "    </tr>\n",
       "  </thead>\n",
       "  <tbody>\n",
       "    <tr>\n",
       "      <th>0</th>\n",
       "      <td>I cannot open the app anymore</td>\n",
       "      <td>i cannot open the app anymore</td>\n",
       "    </tr>\n",
       "    <tr>\n",
       "      <th>1</th>\n",
       "      <td>I have been begging for a refund from this app...</td>\n",
       "      <td>i have been begging for a refund from this app...</td>\n",
       "    </tr>\n",
       "    <tr>\n",
       "      <th>2</th>\n",
       "      <td>Very costly for the premium version (approx In...</td>\n",
       "      <td>very costly for the premium version (approx in...</td>\n",
       "    </tr>\n",
       "    <tr>\n",
       "      <th>3</th>\n",
       "      <td>Used to keep me organized, but all the 2020 UP...</td>\n",
       "      <td>used to keep me organized, but all the 2020 up...</td>\n",
       "    </tr>\n",
       "    <tr>\n",
       "      <th>4</th>\n",
       "      <td>Dan Birthday Oct 28</td>\n",
       "      <td>dan birthday oct 28</td>\n",
       "    </tr>\n",
       "  </tbody>\n",
       "</table>\n",
       "</div>"
      ],
      "text/plain": [
       "                                             content  \\\n",
       "0                      I cannot open the app anymore   \n",
       "1  I have been begging for a refund from this app...   \n",
       "2  Very costly for the premium version (approx In...   \n",
       "3  Used to keep me organized, but all the 2020 UP...   \n",
       "4                                Dan Birthday Oct 28   \n",
       "\n",
       "                                         new_content  \n",
       "0                      i cannot open the app anymore  \n",
       "1  i have been begging for a refund from this app...  \n",
       "2  very costly for the premium version (approx in...  \n",
       "3  used to keep me organized, but all the 2020 up...  \n",
       "4                                dan birthday oct 28  "
      ]
     },
     "execution_count": 20,
     "metadata": {},
     "output_type": "execute_result"
    }
   ],
   "source": [
    "PS_reviews_data['new_content'] = PS_reviews_data['content'].apply(lambda x: str(x).lower())\n",
    "PS_reviews_data[['content','new_content']].head()"
   ]
  },
  {
   "cell_type": "markdown",
   "metadata": {
    "id": "b9xpSWoGTSDG",
    "papermill": {
     "duration": 0.051553,
     "end_time": "2021-11-16T08:09:07.651305",
     "exception": false,
     "start_time": "2021-11-16T08:09:07.599752",
     "status": "completed"
    },
    "tags": []
   },
   "source": [
    "## 3. REMOVE NON-ALPHA DATA(DIGITS,PUNCTUATIONS,DIACRITICS)"
   ]
  },
  {
   "cell_type": "code",
   "execution_count": 21,
   "metadata": {
    "execution": {
     "iopub.execute_input": "2021-11-16T08:09:07.757446Z",
     "iopub.status.busy": "2021-11-16T08:09:07.756751Z",
     "iopub.status.idle": "2021-11-16T08:09:07.785595Z",
     "shell.execute_reply": "2021-11-16T08:09:07.785076Z",
     "shell.execute_reply.started": "2021-11-16T08:04:04.528506Z"
    },
    "id": "lcjSni6MO7aX",
    "outputId": "33d1942d-0be5-483d-a689-c8fe84756ab7",
    "papermill": {
     "duration": 0.083337,
     "end_time": "2021-11-16T08:09:07.785737",
     "exception": false,
     "start_time": "2021-11-16T08:09:07.702400",
     "status": "completed"
    },
    "tags": []
   },
   "outputs": [
    {
     "data": {
      "text/plain": [
       "2    very costly for the premium version (approx in...\n",
       "3    used to keep me organized, but all the 2020 up...\n",
       "4                                  dan birthday oct 28\n",
       "5    it has changed how i viewed my different lists...\n",
       "6    i'm only looking for a grocery list app but ev...\n",
       "Name: new_content, dtype: object"
      ]
     },
     "execution_count": 21,
     "metadata": {},
     "output_type": "execute_result"
    }
   ],
   "source": [
    "PS_reviews_data.loc[PS_reviews_data['new_content'].str.contains(\"[^a-z\\s]\"),'new_content'].head()\n",
    "\n",
    "# From below data we can notice that there are many rows that has non-aplhabet data"
   ]
  },
  {
   "cell_type": "code",
   "execution_count": 22,
   "metadata": {
    "execution": {
     "iopub.execute_input": "2021-11-16T08:09:07.906338Z",
     "iopub.status.busy": "2021-11-16T08:09:07.901279Z",
     "iopub.status.idle": "2021-11-16T08:09:07.992831Z",
     "shell.execute_reply": "2021-11-16T08:09:07.992322Z",
     "shell.execute_reply.started": "2021-11-16T08:04:04.556949Z"
    },
    "id": "YqeFIKZNaMJo",
    "outputId": "750fdd6a-4278-4adc-d611-e953297c8ed6",
    "papermill": {
     "duration": 0.155628,
     "end_time": "2021-11-16T08:09:07.992985",
     "exception": false,
     "start_time": "2021-11-16T08:09:07.837357",
     "status": "completed"
    },
    "tags": []
   },
   "outputs": [
    {
     "data": {
      "text/html": [
       "<div>\n",
       "<style scoped>\n",
       "    .dataframe tbody tr th:only-of-type {\n",
       "        vertical-align: middle;\n",
       "    }\n",
       "\n",
       "    .dataframe tbody tr th {\n",
       "        vertical-align: top;\n",
       "    }\n",
       "\n",
       "    .dataframe thead th {\n",
       "        text-align: right;\n",
       "    }\n",
       "</style>\n",
       "<table border=\"1\" class=\"dataframe\">\n",
       "  <thead>\n",
       "    <tr style=\"text-align: right;\">\n",
       "      <th></th>\n",
       "      <th>content</th>\n",
       "      <th>new_content</th>\n",
       "    </tr>\n",
       "  </thead>\n",
       "  <tbody>\n",
       "    <tr>\n",
       "      <th>0</th>\n",
       "      <td>I cannot open the app anymore</td>\n",
       "      <td>i cannot open the app anymore</td>\n",
       "    </tr>\n",
       "    <tr>\n",
       "      <th>1</th>\n",
       "      <td>I have been begging for a refund from this app...</td>\n",
       "      <td>i have been begging for a refund from this app...</td>\n",
       "    </tr>\n",
       "    <tr>\n",
       "      <th>2</th>\n",
       "      <td>Very costly for the premium version (approx In...</td>\n",
       "      <td>very costly for the premium version  approx in...</td>\n",
       "    </tr>\n",
       "    <tr>\n",
       "      <th>3</th>\n",
       "      <td>Used to keep me organized, but all the 2020 UP...</td>\n",
       "      <td>used to keep me organized  but all the      up...</td>\n",
       "    </tr>\n",
       "    <tr>\n",
       "      <th>4</th>\n",
       "      <td>Dan Birthday Oct 28</td>\n",
       "      <td>dan birthday oct</td>\n",
       "    </tr>\n",
       "  </tbody>\n",
       "</table>\n",
       "</div>"
      ],
      "text/plain": [
       "                                             content  \\\n",
       "0                      I cannot open the app anymore   \n",
       "1  I have been begging for a refund from this app...   \n",
       "2  Very costly for the premium version (approx In...   \n",
       "3  Used to keep me organized, but all the 2020 UP...   \n",
       "4                                Dan Birthday Oct 28   \n",
       "\n",
       "                                         new_content  \n",
       "0                      i cannot open the app anymore  \n",
       "1  i have been begging for a refund from this app...  \n",
       "2  very costly for the premium version  approx in...  \n",
       "3  used to keep me organized  but all the      up...  \n",
       "4                                dan birthday oct     "
      ]
     },
     "execution_count": 22,
     "metadata": {},
     "output_type": "execute_result"
    }
   ],
   "source": [
    "PS_reviews_data['new_content'] = PS_reviews_data['new_content'].str.replace(r'[^a-zA-Z\\s]', ' ') # replacing junk data with space\n",
    "PS_reviews_data[['content','new_content']].head()"
   ]
  },
  {
   "cell_type": "code",
   "execution_count": 23,
   "metadata": {
    "execution": {
     "iopub.execute_input": "2021-11-16T08:09:08.126855Z",
     "iopub.status.busy": "2021-11-16T08:09:08.103682Z",
     "iopub.status.idle": "2021-11-16T08:09:08.162005Z",
     "shell.execute_reply": "2021-11-16T08:09:08.162535Z",
     "shell.execute_reply.started": "2021-11-16T08:04:04.659497Z"
    },
    "id": "aOodK2hQaqTi",
    "outputId": "005d267f-e84b-49a7-9595-d3dd346e7e09",
    "papermill": {
     "duration": 0.118022,
     "end_time": "2021-11-16T08:09:08.162722",
     "exception": false,
     "start_time": "2021-11-16T08:09:08.044700",
     "status": "completed"
    },
    "tags": []
   },
   "outputs": [
    {
     "data": {
      "text/plain": [
       "Series([], Name: new_content, dtype: object)"
      ]
     },
     "execution_count": 23,
     "metadata": {},
     "output_type": "execute_result"
    }
   ],
   "source": [
    "PS_reviews_data.loc[PS_reviews_data['new_content'].str.contains(\"[^a-z\\s]\"),'new_content']\n",
    "# Our data now contains only alphabets"
   ]
  },
  {
   "cell_type": "code",
   "execution_count": 24,
   "metadata": {
    "execution": {
     "iopub.execute_input": "2021-11-16T08:09:08.275097Z",
     "iopub.status.busy": "2021-11-16T08:09:08.274424Z",
     "iopub.status.idle": "2021-11-16T08:09:08.347398Z",
     "shell.execute_reply": "2021-11-16T08:09:08.347881Z",
     "shell.execute_reply.started": "2021-11-16T08:04:04.731028Z"
    },
    "id": "rANfMSPPaqWY",
    "outputId": "db9a14ec-8a6c-403b-8b94-8e497999f787",
    "papermill": {
     "duration": 0.132883,
     "end_time": "2021-11-16T08:09:08.348097",
     "exception": false,
     "start_time": "2021-11-16T08:09:08.215214",
     "status": "completed"
    },
    "tags": []
   },
   "outputs": [
    {
     "data": {
      "text/html": [
       "<style  type=\"text/css\" >\n",
       "    #T_426fb8e4_46d4_11ec_91f0_c89cdc6a6a25row0_col0 {\n",
       "            width:  400px;\n",
       "        }    #T_426fb8e4_46d4_11ec_91f0_c89cdc6a6a25row0_col1 {\n",
       "            width:  400px;\n",
       "        }    #T_426fb8e4_46d4_11ec_91f0_c89cdc6a6a25row1_col0 {\n",
       "            width:  400px;\n",
       "        }    #T_426fb8e4_46d4_11ec_91f0_c89cdc6a6a25row1_col1 {\n",
       "            width:  400px;\n",
       "        }    #T_426fb8e4_46d4_11ec_91f0_c89cdc6a6a25row2_col0 {\n",
       "            width:  400px;\n",
       "        }    #T_426fb8e4_46d4_11ec_91f0_c89cdc6a6a25row2_col1 {\n",
       "            width:  400px;\n",
       "        }    #T_426fb8e4_46d4_11ec_91f0_c89cdc6a6a25row3_col0 {\n",
       "            width:  400px;\n",
       "        }    #T_426fb8e4_46d4_11ec_91f0_c89cdc6a6a25row3_col1 {\n",
       "            width:  400px;\n",
       "        }    #T_426fb8e4_46d4_11ec_91f0_c89cdc6a6a25row4_col0 {\n",
       "            width:  400px;\n",
       "        }    #T_426fb8e4_46d4_11ec_91f0_c89cdc6a6a25row4_col1 {\n",
       "            width:  400px;\n",
       "        }</style><table id=\"T_426fb8e4_46d4_11ec_91f0_c89cdc6a6a25\" ><thead>    <tr>        <th class=\"blank level0\" ></th>        <th class=\"col_heading level0 col0\" >content</th>        <th class=\"col_heading level0 col1\" >new_content</th>    </tr></thead><tbody>\n",
       "                <tr>\n",
       "                        <th id=\"T_426fb8e4_46d4_11ec_91f0_c89cdc6a6a25level0_row0\" class=\"row_heading level0 row0\" >0</th>\n",
       "                        <td id=\"T_426fb8e4_46d4_11ec_91f0_c89cdc6a6a25row0_col0\" class=\"data row0 col0\" >I cannot open the app anymore</td>\n",
       "                        <td id=\"T_426fb8e4_46d4_11ec_91f0_c89cdc6a6a25row0_col1\" class=\"data row0 col1\" >i cannot open the app anymore</td>\n",
       "            </tr>\n",
       "            <tr>\n",
       "                        <th id=\"T_426fb8e4_46d4_11ec_91f0_c89cdc6a6a25level0_row1\" class=\"row_heading level0 row1\" >1</th>\n",
       "                        <td id=\"T_426fb8e4_46d4_11ec_91f0_c89cdc6a6a25row1_col0\" class=\"data row1 col0\" >I have been begging for a refund from this app for over a month and nobody is replying me</td>\n",
       "                        <td id=\"T_426fb8e4_46d4_11ec_91f0_c89cdc6a6a25row1_col1\" class=\"data row1 col1\" >i have been begging for a refund from this app for over a month and nobody is replying me</td>\n",
       "            </tr>\n",
       "            <tr>\n",
       "                        <th id=\"T_426fb8e4_46d4_11ec_91f0_c89cdc6a6a25level0_row2\" class=\"row_heading level0 row2\" >2</th>\n",
       "                        <td id=\"T_426fb8e4_46d4_11ec_91f0_c89cdc6a6a25row2_col0\" class=\"data row2 col0\" >Very costly for the premium version (approx Indian Rupees 910 per year). Better to download the premium version of this app from apkmos website and use it. Microsoft to do list app is far more better.</td>\n",
       "                        <td id=\"T_426fb8e4_46d4_11ec_91f0_c89cdc6a6a25row2_col1\" class=\"data row2 col1\" >very costly for the premium version  approx indian rupees     per year   better to download the premium version of this app from apkmos website and use it  microsoft to do list app is far more better </td>\n",
       "            </tr>\n",
       "            <tr>\n",
       "                        <th id=\"T_426fb8e4_46d4_11ec_91f0_c89cdc6a6a25level0_row3\" class=\"row_heading level0 row3\" >3</th>\n",
       "                        <td id=\"T_426fb8e4_46d4_11ec_91f0_c89cdc6a6a25row3_col0\" class=\"data row3 col0\" >Used to keep me organized, but all the 2020 UPDATES have made a mess of things !!! Y cudn't u leave well enuf alone ??? Guess ur techies feel the need to keep making changes to justify continuing to collect their salary !!! 🤤🤤🤤</td>\n",
       "                        <td id=\"T_426fb8e4_46d4_11ec_91f0_c89cdc6a6a25row3_col1\" class=\"data row3 col1\" >used to keep me organized  but all the      updates have made a mess of things     y cudn t u leave well enuf alone     guess ur techies feel the need to keep making changes to justify continuing to collect their salary        </td>\n",
       "            </tr>\n",
       "            <tr>\n",
       "                        <th id=\"T_426fb8e4_46d4_11ec_91f0_c89cdc6a6a25level0_row4\" class=\"row_heading level0 row4\" >4</th>\n",
       "                        <td id=\"T_426fb8e4_46d4_11ec_91f0_c89cdc6a6a25row4_col0\" class=\"data row4 col0\" >Dan Birthday Oct 28</td>\n",
       "                        <td id=\"T_426fb8e4_46d4_11ec_91f0_c89cdc6a6a25row4_col1\" class=\"data row4 col1\" >dan birthday oct   </td>\n",
       "            </tr>\n",
       "    </tbody></table>"
      ],
      "text/plain": [
       "<pandas.io.formats.style.Styler at 0x226c8e3f688>"
      ]
     },
     "execution_count": 24,
     "metadata": {},
     "output_type": "execute_result"
    }
   ],
   "source": [
    "PS_reviews_data[['content','new_content']].head().style.set_properties( **{'width': '400px'})"
   ]
  },
  {
   "cell_type": "markdown",
   "metadata": {
    "id": "QKY0N5h5cavg",
    "papermill": {
     "duration": 0.052435,
     "end_time": "2021-11-16T08:09:08.453556",
     "exception": false,
     "start_time": "2021-11-16T08:09:08.401121",
     "status": "completed"
    },
    "tags": []
   },
   "source": [
    "## 4. REMOVING WHITE SPACE"
   ]
  },
  {
   "cell_type": "code",
   "execution_count": 25,
   "metadata": {
    "execution": {
     "iopub.execute_input": "2021-11-16T08:09:08.581765Z",
     "iopub.status.busy": "2021-11-16T08:09:08.581092Z",
     "iopub.status.idle": "2021-11-16T08:09:08.598582Z",
     "shell.execute_reply": "2021-11-16T08:09:08.598035Z",
     "shell.execute_reply.started": "2021-11-16T08:04:04.747773Z"
    },
    "id": "WJF3jw0vaqZE",
    "outputId": "78f422a7-cb75-4967-8d29-e8e95a5b7bee",
    "papermill": {
     "duration": 0.092654,
     "end_time": "2021-11-16T08:09:08.598722",
     "exception": false,
     "start_time": "2021-11-16T08:09:08.506068",
     "status": "completed"
    },
    "tags": []
   },
   "outputs": [
    {
     "data": {
      "text/plain": [
       "2    very costly for the premium version  approx in...\n",
       "3    used to keep me organized  but all the      up...\n",
       "4                                  dan birthday oct   \n",
       "5    it has changed how i viewed my different lists...\n",
       "6    i m only looking for a grocery list app but ev...\n",
       "Name: new_content, dtype: object"
      ]
     },
     "execution_count": 25,
     "metadata": {},
     "output_type": "execute_result"
    }
   ],
   "source": [
    "PS_reviews_data.loc[PS_reviews_data['new_content'].str.contains(\"\\s{2,}\"),'new_content'].head()\n",
    "# From below data we can notice after removing non-alphabet data we have extra spaces(2 or more) in between"
   ]
  },
  {
   "cell_type": "code",
   "execution_count": 26,
   "metadata": {
    "execution": {
     "iopub.execute_input": "2021-11-16T08:09:08.712509Z",
     "iopub.status.busy": "2021-11-16T08:09:08.711856Z",
     "iopub.status.idle": "2021-11-16T08:09:08.805172Z",
     "shell.execute_reply": "2021-11-16T08:09:08.804597Z",
     "shell.execute_reply.started": "2021-11-16T08:04:04.807104Z"
    },
    "id": "t5xrACYoaqbF",
    "papermill": {
     "duration": 0.153453,
     "end_time": "2021-11-16T08:09:08.805319",
     "exception": false,
     "start_time": "2021-11-16T08:09:08.651866",
     "status": "completed"
    },
    "tags": []
   },
   "outputs": [],
   "source": [
    "PS_reviews_data['new_content'] = PS_reviews_data['new_content'].str.replace(r'\\s{2,}', ' ')"
   ]
  },
  {
   "cell_type": "markdown",
   "metadata": {
    "id": "RYJ-bHSzg5Up",
    "papermill": {
     "duration": 0.053625,
     "end_time": "2021-11-16T08:09:08.913455",
     "exception": false,
     "start_time": "2021-11-16T08:09:08.859830",
     "status": "completed"
    },
    "tags": []
   },
   "source": [
    "## 5. WORD TOKENIZATION"
   ]
  },
  {
   "cell_type": "code",
   "execution_count": 27,
   "metadata": {
    "execution": {
     "iopub.execute_input": "2021-11-16T08:09:09.026710Z",
     "iopub.status.busy": "2021-11-16T08:09:09.026046Z",
     "iopub.status.idle": "2021-11-16T08:09:09.096489Z",
     "shell.execute_reply": "2021-11-16T08:09:09.096993Z",
     "shell.execute_reply.started": "2021-11-16T08:04:04.959253Z"
    },
    "id": "yIZtWVYQPfM4",
    "outputId": "2a59b4bd-b5fc-46ee-d3d2-c2d0bfab7607",
    "papermill": {
     "duration": 0.129094,
     "end_time": "2021-11-16T08:09:09.097175",
     "exception": false,
     "start_time": "2021-11-16T08:09:08.968081",
     "status": "completed"
    },
    "tags": []
   },
   "outputs": [
    {
     "name": "stderr",
     "output_type": "stream",
     "text": [
      "[nltk_data] Downloading package punkt to\n",
      "[nltk_data]     C:\\Users\\faisa\\AppData\\Roaming\\nltk_data...\n",
      "[nltk_data]   Unzipping tokenizers\\punkt.zip.\n"
     ]
    },
    {
     "data": {
      "text/plain": [
       "True"
      ]
     },
     "execution_count": 27,
     "metadata": {},
     "output_type": "execute_result"
    }
   ],
   "source": [
    "from nltk.tokenize import word_tokenize\n",
    "nltk.download('punkt')"
   ]
  },
  {
   "cell_type": "code",
   "execution_count": 28,
   "metadata": {
    "execution": {
     "iopub.execute_input": "2021-11-16T08:09:09.211658Z",
     "iopub.status.busy": "2021-11-16T08:09:09.210795Z",
     "iopub.status.idle": "2021-11-16T08:09:12.945781Z",
     "shell.execute_reply": "2021-11-16T08:09:12.946296Z",
     "shell.execute_reply.started": "2021-11-16T08:04:04.969212Z"
    },
    "id": "x_gRh27tPfbB",
    "papermill": {
     "duration": 3.794915,
     "end_time": "2021-11-16T08:09:12.946480",
     "exception": false,
     "start_time": "2021-11-16T08:09:09.151565",
     "status": "completed"
    },
    "tags": []
   },
   "outputs": [],
   "source": [
    "PS_reviews_data['new_content'] = PS_reviews_data['new_content'].apply(lambda x: word_tokenize(x))"
   ]
  },
  {
   "cell_type": "code",
   "execution_count": 29,
   "metadata": {
    "execution": {
     "iopub.execute_input": "2021-11-16T08:09:13.058739Z",
     "iopub.status.busy": "2021-11-16T08:09:13.057785Z",
     "iopub.status.idle": "2021-11-16T08:09:13.071182Z",
     "shell.execute_reply": "2021-11-16T08:09:13.071704Z",
     "shell.execute_reply.started": "2021-11-16T08:04:09.357563Z"
    },
    "id": "RBdwY222Pfgu",
    "outputId": "e7aace69-c92c-49ff-de98-49000b6d69b6",
    "papermill": {
     "duration": 0.071351,
     "end_time": "2021-11-16T08:09:13.071875",
     "exception": false,
     "start_time": "2021-11-16T08:09:13.000524",
     "status": "completed"
    },
    "tags": []
   },
   "outputs": [
    {
     "data": {
      "text/html": [
       "<div>\n",
       "<style scoped>\n",
       "    .dataframe tbody tr th:only-of-type {\n",
       "        vertical-align: middle;\n",
       "    }\n",
       "\n",
       "    .dataframe tbody tr th {\n",
       "        vertical-align: top;\n",
       "    }\n",
       "\n",
       "    .dataframe thead th {\n",
       "        text-align: right;\n",
       "    }\n",
       "</style>\n",
       "<table border=\"1\" class=\"dataframe\">\n",
       "  <thead>\n",
       "    <tr style=\"text-align: right;\">\n",
       "      <th></th>\n",
       "      <th>content</th>\n",
       "      <th>new_content</th>\n",
       "    </tr>\n",
       "  </thead>\n",
       "  <tbody>\n",
       "    <tr>\n",
       "      <th>0</th>\n",
       "      <td>I cannot open the app anymore</td>\n",
       "      <td>[i, can, not, open, the, app, anymore]</td>\n",
       "    </tr>\n",
       "    <tr>\n",
       "      <th>1</th>\n",
       "      <td>I have been begging for a refund from this app...</td>\n",
       "      <td>[i, have, been, begging, for, a, refund, from,...</td>\n",
       "    </tr>\n",
       "    <tr>\n",
       "      <th>2</th>\n",
       "      <td>Very costly for the premium version (approx In...</td>\n",
       "      <td>[very, costly, for, the, premium, version, app...</td>\n",
       "    </tr>\n",
       "    <tr>\n",
       "      <th>3</th>\n",
       "      <td>Used to keep me organized, but all the 2020 UP...</td>\n",
       "      <td>[used, to, keep, me, organized, but, all, the,...</td>\n",
       "    </tr>\n",
       "    <tr>\n",
       "      <th>4</th>\n",
       "      <td>Dan Birthday Oct 28</td>\n",
       "      <td>[dan, birthday, oct]</td>\n",
       "    </tr>\n",
       "  </tbody>\n",
       "</table>\n",
       "</div>"
      ],
      "text/plain": [
       "                                             content  \\\n",
       "0                      I cannot open the app anymore   \n",
       "1  I have been begging for a refund from this app...   \n",
       "2  Very costly for the premium version (approx In...   \n",
       "3  Used to keep me organized, but all the 2020 UP...   \n",
       "4                                Dan Birthday Oct 28   \n",
       "\n",
       "                                         new_content  \n",
       "0             [i, can, not, open, the, app, anymore]  \n",
       "1  [i, have, been, begging, for, a, refund, from,...  \n",
       "2  [very, costly, for, the, premium, version, app...  \n",
       "3  [used, to, keep, me, organized, but, all, the,...  \n",
       "4                               [dan, birthday, oct]  "
      ]
     },
     "execution_count": 29,
     "metadata": {},
     "output_type": "execute_result"
    }
   ],
   "source": [
    "PS_reviews_data[['content','new_content']].head()"
   ]
  },
  {
   "cell_type": "markdown",
   "metadata": {
    "id": "_TOtyVc2XqSA",
    "papermill": {
     "duration": 0.053707,
     "end_time": "2021-11-16T08:09:13.179645",
     "exception": false,
     "start_time": "2021-11-16T08:09:13.125938",
     "status": "completed"
    },
    "tags": []
   },
   "source": [
    "## 6. REMOVE STOP WORDS"
   ]
  },
  {
   "cell_type": "code",
   "execution_count": 30,
   "metadata": {
    "execution": {
     "iopub.execute_input": "2021-11-16T08:09:13.305758Z",
     "iopub.status.busy": "2021-11-16T08:09:13.292666Z",
     "iopub.status.idle": "2021-11-16T08:09:23.791097Z",
     "shell.execute_reply": "2021-11-16T08:09:23.790418Z",
     "shell.execute_reply.started": "2021-11-16T08:04:09.378306Z"
    },
    "id": "SOl3wofJXtCa",
    "outputId": "b71406e0-27c8-498c-971f-58806eaecdd0",
    "papermill": {
     "duration": 10.557528,
     "end_time": "2021-11-16T08:09:23.791315",
     "exception": false,
     "start_time": "2021-11-16T08:09:13.233787",
     "status": "completed"
    },
    "tags": []
   },
   "outputs": [
    {
     "name": "stdout",
     "output_type": "stream",
     "text": [
      "Collecting stopwords\r\n",
      "  Downloading stopwords-1.0.0-py2.py3-none-any.whl (37 kB)\r\n",
      "Installing collected packages: stopwords\r\n",
      "Successfully installed stopwords-1.0.0\r\n",
      "\u001b[33mWARNING: Running pip as the 'root' user can result in broken permissions and conflicting behaviour with the system package manager. It is recommended to use a virtual environment instead: https://pip.pypa.io/warnings/venv\u001b[0m\r\n"
     ]
    }
   ],
   "source": [
    "!pip install stopwords"
   ]
  },
  {
   "cell_type": "code",
   "execution_count": 30,
   "metadata": {
    "execution": {
     "iopub.execute_input": "2021-11-16T08:09:23.907700Z",
     "iopub.status.busy": "2021-11-16T08:09:23.906730Z",
     "iopub.status.idle": "2021-11-16T08:09:23.919694Z",
     "shell.execute_reply": "2021-11-16T08:09:23.920227Z",
     "shell.execute_reply.started": "2021-11-16T08:04:16.334839Z"
    },
    "id": "oQ9HnJ91XtFC",
    "outputId": "dfa2a64b-2fc5-4105-b61e-1efbc805fa44",
    "papermill": {
     "duration": 0.072878,
     "end_time": "2021-11-16T08:09:23.920409",
     "exception": false,
     "start_time": "2021-11-16T08:09:23.847531",
     "status": "completed"
    },
    "tags": []
   },
   "outputs": [
    {
     "name": "stderr",
     "output_type": "stream",
     "text": [
      "[nltk_data] Downloading package stopwords to\n",
      "[nltk_data]     C:\\Users\\faisa\\AppData\\Roaming\\nltk_data...\n",
      "[nltk_data]   Package stopwords is already up-to-date!\n"
     ]
    },
    {
     "data": {
      "text/plain": [
       "True"
      ]
     },
     "execution_count": 30,
     "metadata": {},
     "output_type": "execute_result"
    }
   ],
   "source": [
    "from nltk.corpus import stopwords\n",
    "nltk.download('stopwords')"
   ]
  },
  {
   "cell_type": "code",
   "execution_count": 32,
   "metadata": {
    "execution": {
     "iopub.execute_input": "2021-11-16T08:09:24.037328Z",
     "iopub.status.busy": "2021-11-16T08:09:24.036344Z",
     "iopub.status.idle": "2021-11-16T08:09:24.045000Z",
     "shell.execute_reply": "2021-11-16T08:09:24.045516Z",
     "shell.execute_reply.started": "2021-11-16T08:04:16.345226Z"
    },
    "id": "6V6ShzH9XtLu",
    "outputId": "b6ab1986-6f78-41ce-cc70-85f13dac124e",
    "papermill": {
     "duration": 0.068808,
     "end_time": "2021-11-16T08:09:24.045687",
     "exception": false,
     "start_time": "2021-11-16T08:09:23.976879",
     "status": "completed"
    },
    "tags": []
   },
   "outputs": [
    {
     "data": {
      "text/plain": [
       "['i',\n",
       " 'me',\n",
       " 'my',\n",
       " 'myself',\n",
       " 'we',\n",
       " 'our',\n",
       " 'ours',\n",
       " 'ourselves',\n",
       " 'you',\n",
       " \"you're\",\n",
       " \"you've\",\n",
       " \"you'll\",\n",
       " \"you'd\",\n",
       " 'your',\n",
       " 'yours',\n",
       " 'yourself',\n",
       " 'yourselves',\n",
       " 'he',\n",
       " 'him',\n",
       " 'his']"
      ]
     },
     "execution_count": 32,
     "metadata": {},
     "output_type": "execute_result"
    }
   ],
   "source": [
    "stopwords.words(\"english\")[:20]"
   ]
  },
  {
   "cell_type": "code",
   "execution_count": 31,
   "metadata": {
    "execution": {
     "iopub.execute_input": "2021-11-16T08:09:24.164065Z",
     "iopub.status.busy": "2021-11-16T08:09:24.163363Z",
     "iopub.status.idle": "2021-11-16T08:10:07.778480Z",
     "shell.execute_reply": "2021-11-16T08:10:07.777828Z",
     "shell.execute_reply.started": "2021-11-16T08:04:16.365081Z"
    },
    "id": "oB-8v2JkXtOf",
    "papermill": {
     "duration": 43.675177,
     "end_time": "2021-11-16T08:10:07.778652",
     "exception": false,
     "start_time": "2021-11-16T08:09:24.103475",
     "status": "completed"
    },
    "tags": []
   },
   "outputs": [],
   "source": [
    "PS_reviews_data['new_content'] = PS_reviews_data.new_content.apply(lambda x: [word for word in x if word not in stopwords.words(\"english\")])"
   ]
  },
  {
   "cell_type": "code",
   "execution_count": 32,
   "metadata": {
    "execution": {
     "iopub.execute_input": "2021-11-16T08:10:07.907794Z",
     "iopub.status.busy": "2021-11-16T08:10:07.907104Z",
     "iopub.status.idle": "2021-11-16T08:10:07.910883Z",
     "shell.execute_reply": "2021-11-16T08:10:07.910363Z",
     "shell.execute_reply.started": "2021-11-16T08:05:09.006668Z"
    },
    "id": "cXkbpRxQXtRI",
    "outputId": "d8cf63b5-45d4-4d94-b4dc-665b2db7907f",
    "papermill": {
     "duration": 0.07529,
     "end_time": "2021-11-16T08:10:07.911041",
     "exception": false,
     "start_time": "2021-11-16T08:10:07.835751",
     "status": "completed"
    },
    "tags": []
   },
   "outputs": [
    {
     "data": {
      "text/html": [
       "<div>\n",
       "<style scoped>\n",
       "    .dataframe tbody tr th:only-of-type {\n",
       "        vertical-align: middle;\n",
       "    }\n",
       "\n",
       "    .dataframe tbody tr th {\n",
       "        vertical-align: top;\n",
       "    }\n",
       "\n",
       "    .dataframe thead th {\n",
       "        text-align: right;\n",
       "    }\n",
       "</style>\n",
       "<table border=\"1\" class=\"dataframe\">\n",
       "  <thead>\n",
       "    <tr style=\"text-align: right;\">\n",
       "      <th></th>\n",
       "      <th>content</th>\n",
       "      <th>new_content</th>\n",
       "    </tr>\n",
       "  </thead>\n",
       "  <tbody>\n",
       "    <tr>\n",
       "      <th>0</th>\n",
       "      <td>I cannot open the app anymore</td>\n",
       "      <td>[open, app, anymore]</td>\n",
       "    </tr>\n",
       "    <tr>\n",
       "      <th>1</th>\n",
       "      <td>I have been begging for a refund from this app...</td>\n",
       "      <td>[begging, refund, app, month, nobody, replying]</td>\n",
       "    </tr>\n",
       "    <tr>\n",
       "      <th>2</th>\n",
       "      <td>Very costly for the premium version (approx In...</td>\n",
       "      <td>[costly, premium, version, approx, indian, rup...</td>\n",
       "    </tr>\n",
       "    <tr>\n",
       "      <th>3</th>\n",
       "      <td>Used to keep me organized, but all the 2020 UP...</td>\n",
       "      <td>[used, keep, organized, updates, made, mess, t...</td>\n",
       "    </tr>\n",
       "    <tr>\n",
       "      <th>4</th>\n",
       "      <td>Dan Birthday Oct 28</td>\n",
       "      <td>[dan, birthday, oct]</td>\n",
       "    </tr>\n",
       "  </tbody>\n",
       "</table>\n",
       "</div>"
      ],
      "text/plain": [
       "                                             content  \\\n",
       "0                      I cannot open the app anymore   \n",
       "1  I have been begging for a refund from this app...   \n",
       "2  Very costly for the premium version (approx In...   \n",
       "3  Used to keep me organized, but all the 2020 UP...   \n",
       "4                                Dan Birthday Oct 28   \n",
       "\n",
       "                                         new_content  \n",
       "0                               [open, app, anymore]  \n",
       "1    [begging, refund, app, month, nobody, replying]  \n",
       "2  [costly, premium, version, approx, indian, rup...  \n",
       "3  [used, keep, organized, updates, made, mess, t...  \n",
       "4                               [dan, birthday, oct]  "
      ]
     },
     "execution_count": 32,
     "metadata": {},
     "output_type": "execute_result"
    }
   ],
   "source": [
    "PS_reviews_data[['content','new_content']].head() # We have removed the stop words"
   ]
  },
  {
   "cell_type": "markdown",
   "metadata": {
    "id": "41MSk3_cbijZ",
    "papermill": {
     "duration": 0.056559,
     "end_time": "2021-11-16T08:10:08.025761",
     "exception": false,
     "start_time": "2021-11-16T08:10:07.969202",
     "status": "completed"
    },
    "tags": []
   },
   "source": [
    "## 7. REMOVE RECORDS THAT HAS 0 OR 1 WORD"
   ]
  },
  {
   "cell_type": "code",
   "execution_count": 33,
   "metadata": {
    "execution": {
     "iopub.execute_input": "2021-11-16T08:10:08.162526Z",
     "iopub.status.busy": "2021-11-16T08:10:08.161711Z",
     "iopub.status.idle": "2021-11-16T08:10:08.164569Z",
     "shell.execute_reply": "2021-11-16T08:10:08.165116Z",
     "shell.execute_reply.started": "2021-11-16T08:05:09.025621Z"
    },
    "id": "FUfUj0LMb_RN",
    "outputId": "44ddde1c-4a5d-41c9-ebe2-24f8bec7708d",
    "papermill": {
     "duration": 0.082661,
     "end_time": "2021-11-16T08:10:08.165286",
     "exception": false,
     "start_time": "2021-11-16T08:10:08.082625",
     "status": "completed"
    },
    "tags": []
   },
   "outputs": [
    {
     "data": {
      "text/html": [
       "<div>\n",
       "<style scoped>\n",
       "    .dataframe tbody tr th:only-of-type {\n",
       "        vertical-align: middle;\n",
       "    }\n",
       "\n",
       "    .dataframe tbody tr th {\n",
       "        vertical-align: top;\n",
       "    }\n",
       "\n",
       "    .dataframe thead th {\n",
       "        text-align: right;\n",
       "    }\n",
       "</style>\n",
       "<table border=\"1\" class=\"dataframe\">\n",
       "  <thead>\n",
       "    <tr style=\"text-align: right;\">\n",
       "      <th></th>\n",
       "      <th>content</th>\n",
       "      <th>score</th>\n",
       "      <th>new_score</th>\n",
       "      <th>new_content</th>\n",
       "    </tr>\n",
       "  </thead>\n",
       "  <tbody>\n",
       "    <tr>\n",
       "      <th>19</th>\n",
       "      <td>Do not download</td>\n",
       "      <td>1</td>\n",
       "      <td>0</td>\n",
       "      <td>[download]</td>\n",
       "    </tr>\n",
       "    <tr>\n",
       "      <th>38</th>\n",
       "      <td>Yes i what</td>\n",
       "      <td>1</td>\n",
       "      <td>0</td>\n",
       "      <td>[yes]</td>\n",
       "    </tr>\n",
       "    <tr>\n",
       "      <th>39</th>\n",
       "      <td>Waste</td>\n",
       "      <td>1</td>\n",
       "      <td>0</td>\n",
       "      <td>[waste]</td>\n",
       "    </tr>\n",
       "    <tr>\n",
       "      <th>44</th>\n",
       "      <td>Dindigul</td>\n",
       "      <td>1</td>\n",
       "      <td>0</td>\n",
       "      <td>[dindigul]</td>\n",
       "    </tr>\n",
       "    <tr>\n",
       "      <th>51</th>\n",
       "      <td>good</td>\n",
       "      <td>1</td>\n",
       "      <td>0</td>\n",
       "      <td>[good]</td>\n",
       "    </tr>\n",
       "  </tbody>\n",
       "</table>\n",
       "</div>"
      ],
      "text/plain": [
       "            content  score  new_score new_content\n",
       "19  Do not download      1          0  [download]\n",
       "38       Yes i what      1          0       [yes]\n",
       "39            Waste      1          0     [waste]\n",
       "44         Dindigul      1          0  [dindigul]\n",
       "51             good      1          0      [good]"
      ]
     },
     "execution_count": 33,
     "metadata": {},
     "output_type": "execute_result"
    }
   ],
   "source": [
    "PS_reviews_data[PS_reviews_data['new_content'].map(lambda x: len(x)) < 2].head()"
   ]
  },
  {
   "cell_type": "code",
   "execution_count": 34,
   "metadata": {
    "execution": {
     "iopub.execute_input": "2021-11-16T08:10:08.293787Z",
     "iopub.status.busy": "2021-11-16T08:10:08.293084Z",
     "iopub.status.idle": "2021-11-16T08:10:08.297419Z",
     "shell.execute_reply": "2021-11-16T08:10:08.296864Z",
     "shell.execute_reply.started": "2021-11-16T08:05:09.060335Z"
    },
    "id": "VVhcYB1mgGtD",
    "papermill": {
     "duration": 0.07491,
     "end_time": "2021-11-16T08:10:08.297555",
     "exception": false,
     "start_time": "2021-11-16T08:10:08.222645",
     "status": "completed"
    },
    "tags": []
   },
   "outputs": [],
   "source": [
    "PS_reviews_data = PS_reviews_data[PS_reviews_data['new_content'].map(lambda x: len(x)) > 1]"
   ]
  },
  {
   "cell_type": "markdown",
   "metadata": {
    "id": "SJLTRjAZaG4P",
    "papermill": {
     "duration": 0.059024,
     "end_time": "2021-11-16T08:10:08.417295",
     "exception": false,
     "start_time": "2021-11-16T08:10:08.358271",
     "status": "completed"
    },
    "tags": []
   },
   "source": [
    "## 8. REMOVE NON-ALPHABETS WORDS"
   ]
  },
  {
   "cell_type": "code",
   "execution_count": 35,
   "metadata": {
    "execution": {
     "iopub.execute_input": "2021-11-16T08:10:08.537455Z",
     "iopub.status.busy": "2021-11-16T08:10:08.536785Z",
     "iopub.status.idle": "2021-11-16T08:10:08.579738Z",
     "shell.execute_reply": "2021-11-16T08:10:08.579110Z",
     "shell.execute_reply.started": "2021-11-16T08:05:09.080297Z"
    },
    "id": "LxnQoxqngGwB",
    "papermill": {
     "duration": 0.103992,
     "end_time": "2021-11-16T08:10:08.579903",
     "exception": false,
     "start_time": "2021-11-16T08:10:08.475911",
     "status": "completed"
    },
    "tags": []
   },
   "outputs": [],
   "source": [
    "PS_reviews_data['new_content'] = PS_reviews_data['new_content'].apply(lambda x: [word for word in x if word.isalpha()])"
   ]
  },
  {
   "cell_type": "code",
   "execution_count": 36,
   "metadata": {
    "execution": {
     "iopub.execute_input": "2021-11-16T08:10:08.703780Z",
     "iopub.status.busy": "2021-11-16T08:10:08.703155Z",
     "iopub.status.idle": "2021-11-16T08:10:08.713543Z",
     "shell.execute_reply": "2021-11-16T08:10:08.714112Z",
     "shell.execute_reply.started": "2021-11-16T08:05:09.150814Z"
    },
    "id": "skzu3rzvgGyR",
    "papermill": {
     "duration": 0.074061,
     "end_time": "2021-11-16T08:10:08.714287",
     "exception": false,
     "start_time": "2021-11-16T08:10:08.640226",
     "status": "completed"
    },
    "tags": []
   },
   "outputs": [],
   "source": [
    "PS_reviews_data = PS_reviews_data[PS_reviews_data['new_content'].map(lambda x: len(x)) > 1] # Repeating STEP 7"
   ]
  },
  {
   "cell_type": "markdown",
   "metadata": {
    "id": "c5Sp5o3kffr5",
    "papermill": {
     "duration": 0.057167,
     "end_time": "2021-11-16T08:10:08.828809",
     "exception": false,
     "start_time": "2021-11-16T08:10:08.771642",
     "status": "completed"
    },
    "tags": []
   },
   "source": [
    "## 9. LEMMATIZATION"
   ]
  },
  {
   "cell_type": "code",
   "execution_count": 37,
   "metadata": {
    "execution": {
     "iopub.execute_input": "2021-11-16T08:10:08.951359Z",
     "iopub.status.busy": "2021-11-16T08:10:08.950626Z",
     "iopub.status.idle": "2021-11-16T08:10:09.006590Z",
     "shell.execute_reply": "2021-11-16T08:10:09.007088Z",
     "shell.execute_reply.started": "2021-11-16T08:05:09.164323Z"
    },
    "id": "24X3kxm4gG4s",
    "outputId": "83064874-0036-453e-d454-d3c7aca6de0a",
    "papermill": {
     "duration": 0.119893,
     "end_time": "2021-11-16T08:10:09.007268",
     "exception": false,
     "start_time": "2021-11-16T08:10:08.887375",
     "status": "completed"
    },
    "tags": []
   },
   "outputs": [
    {
     "name": "stderr",
     "output_type": "stream",
     "text": [
      "[nltk_data] Downloading package wordnet to\n",
      "[nltk_data]     C:\\Users\\faisa\\AppData\\Roaming\\nltk_data...\n",
      "[nltk_data]   Package wordnet is already up-to-date!\n"
     ]
    },
    {
     "data": {
      "text/plain": [
       "True"
      ]
     },
     "execution_count": 37,
     "metadata": {},
     "output_type": "execute_result"
    }
   ],
   "source": [
    "from nltk.stem import WordNetLemmatizer\n",
    "nltk.download('wordnet')"
   ]
  },
  {
   "cell_type": "code",
   "execution_count": 38,
   "metadata": {
    "execution": {
     "iopub.execute_input": "2021-11-16T08:10:09.129299Z",
     "iopub.status.busy": "2021-11-16T08:10:09.128569Z",
     "iopub.status.idle": "2021-11-16T08:10:12.301569Z",
     "shell.execute_reply": "2021-11-16T08:10:12.300888Z",
     "shell.execute_reply.started": "2021-11-16T08:05:09.239737Z"
    },
    "id": "f6I67D3pgG8C",
    "papermill": {
     "duration": 3.236493,
     "end_time": "2021-11-16T08:10:12.301711",
     "exception": false,
     "start_time": "2021-11-16T08:10:09.065218",
     "status": "completed"
    },
    "tags": []
   },
   "outputs": [],
   "source": [
    "PS_reviews_data['new_content'] = PS_reviews_data['new_content'].apply(lambda x: [WordNetLemmatizer().lemmatize(word) for word in x])"
   ]
  },
  {
   "cell_type": "markdown",
   "metadata": {
    "id": "0Sq9NaTqgxKe",
    "papermill": {
     "duration": 0.058266,
     "end_time": "2021-11-16T08:10:12.419275",
     "exception": false,
     "start_time": "2021-11-16T08:10:12.361009",
     "status": "completed"
    },
    "tags": []
   },
   "source": [
    "## 10. TF-IDF"
   ]
  },
  {
   "cell_type": "code",
   "execution_count": 39,
   "metadata": {
    "execution": {
     "iopub.execute_input": "2021-11-16T08:10:12.561497Z",
     "iopub.status.busy": "2021-11-16T08:10:12.560624Z",
     "iopub.status.idle": "2021-11-16T08:10:12.563581Z",
     "shell.execute_reply": "2021-11-16T08:10:12.562993Z",
     "shell.execute_reply.started": "2021-11-16T08:05:12.666622Z"
    },
    "id": "B3RPNmi1g037",
    "papermill": {
     "duration": 0.073649,
     "end_time": "2021-11-16T08:10:12.563716",
     "exception": false,
     "start_time": "2021-11-16T08:10:12.490067",
     "status": "completed"
    },
    "tags": []
   },
   "outputs": [],
   "source": [
    "from sklearn.feature_extraction.text import TfidfVectorizer"
   ]
  },
  {
   "cell_type": "code",
   "execution_count": 40,
   "metadata": {
    "execution": {
     "iopub.execute_input": "2021-11-16T08:10:12.738644Z",
     "iopub.status.busy": "2021-11-16T08:10:12.712608Z",
     "iopub.status.idle": "2021-11-16T08:10:13.028261Z",
     "shell.execute_reply": "2021-11-16T08:10:13.027195Z",
     "shell.execute_reply.started": "2021-11-16T08:05:12.672761Z"
    },
    "id": "G8O0W0Byg06g",
    "papermill": {
     "duration": 0.406361,
     "end_time": "2021-11-16T08:10:13.028413",
     "exception": false,
     "start_time": "2021-11-16T08:10:12.622052",
     "status": "completed"
    },
    "tags": []
   },
   "outputs": [],
   "source": [
    "Tfidf_vect = TfidfVectorizer()\n",
    "Train_content_tfidf = Tfidf_vect.fit_transform(PS_reviews_data['new_content'].astype(str))"
   ]
  },
  {
   "cell_type": "code",
   "execution_count": 43,
   "metadata": {
    "execution": {
     "iopub.execute_input": "2021-11-16T08:10:13.151403Z",
     "iopub.status.busy": "2021-11-16T08:10:13.150567Z",
     "iopub.status.idle": "2021-11-16T08:10:13.152785Z",
     "shell.execute_reply": "2021-11-16T08:10:13.152258Z",
     "shell.execute_reply.started": "2021-11-16T08:05:12.923981Z"
    },
    "id": "nZK3MK8hg09I",
    "papermill": {
     "duration": 0.065075,
     "end_time": "2021-11-16T08:10:13.152937",
     "exception": false,
     "start_time": "2021-11-16T08:10:13.087862",
     "status": "completed"
    },
    "tags": []
   },
   "outputs": [],
   "source": [
    "# Tfidf_vect.vocabulary_ # To check vocabulary"
   ]
  },
  {
   "cell_type": "code",
   "execution_count": 41,
   "metadata": {
    "execution": {
     "iopub.execute_input": "2021-11-16T08:10:13.277064Z",
     "iopub.status.busy": "2021-11-16T08:10:13.276350Z",
     "iopub.status.idle": "2021-11-16T08:10:13.280220Z",
     "shell.execute_reply": "2021-11-16T08:10:13.279492Z",
     "shell.execute_reply.started": "2021-11-16T08:05:12.928681Z"
    },
    "id": "JOBGp6qdg0_v",
    "outputId": "2a0f98eb-8c98-4702-fa25-901f30a7091d",
    "papermill": {
     "duration": 0.067583,
     "end_time": "2021-11-16T08:10:13.280397",
     "exception": false,
     "start_time": "2021-11-16T08:10:13.212814",
     "status": "completed"
    },
    "tags": []
   },
   "outputs": [
    {
     "name": "stdout",
     "output_type": "stream",
     "text": [
      "  (0, 423)\t0.7442205089144512\n",
      "  (0, 460)\t0.22669775392938943\n",
      "  (0, 5749)\t0.6282865289614965\n",
      "  (1, 7038)\t0.5098928283032067\n",
      "  (1, 5539)\t0.48817466469248405\n",
      "  (1, 5319)\t0.28209699450293924\n",
      "  (1, 6873)\t0.3889691746394387\n",
      "  (1, 840)\t0.5098928283032067\n",
      "  (1, 460)\t0.1040594585562335\n",
      "  (2, 3054)\t0.1552816138599539\n",
      "  (2, 4790)\t0.12551833684747368\n",
      "  (2, 5164)\t0.19362861790089347\n",
      "  (2, 9063)\t0.10762325941713373\n",
      "  (2, 9326)\t0.22763212874017583\n",
      "  (2, 446)\t0.34090539177314033\n",
      "  (2, 2466)\t0.20456173739616854\n",
      "  (2, 889)\t0.2949842500593587\n",
      "  (2, 9539)\t0.14871600765019707\n",
      "  (2, 6041)\t0.21987487712519135\n",
      "  (2, 7285)\t0.3084571742554576\n",
      "  (2, 4204)\t0.32654682678273134\n",
      "  (2, 499)\t0.32654682678273134\n",
      "  (2, 9158)\t0.25409316057974035\n",
      "  (2, 6369)\t0.2747219908829051\n",
      "  (2, 1780)\t0.2839110452767498\n",
      "  (2, 460)\t0.12103712784129549\n"
     ]
    }
   ],
   "source": [
    "print(Train_content_tfidf[:3])"
   ]
  },
  {
   "cell_type": "markdown",
   "metadata": {
    "id": "zmR9hqr-jCQr",
    "papermill": {
     "duration": 0.05785,
     "end_time": "2021-11-16T08:10:13.398021",
     "exception": false,
     "start_time": "2021-11-16T08:10:13.340171",
     "status": "completed"
    },
    "tags": []
   },
   "source": [
    "## Training ML Models"
   ]
  },
  {
   "cell_type": "code",
   "execution_count": 42,
   "metadata": {
    "execution": {
     "iopub.execute_input": "2021-11-16T08:10:13.521503Z",
     "iopub.status.busy": "2021-11-16T08:10:13.520816Z",
     "iopub.status.idle": "2021-11-16T08:10:13.631318Z",
     "shell.execute_reply": "2021-11-16T08:10:13.630738Z",
     "shell.execute_reply.started": "2021-11-16T08:05:12.947474Z"
    },
    "id": "6hOXU2DQjFas",
    "papermill": {
     "duration": 0.174009,
     "end_time": "2021-11-16T08:10:13.631468",
     "exception": false,
     "start_time": "2021-11-16T08:10:13.457459",
     "status": "completed"
    },
    "tags": []
   },
   "outputs": [],
   "source": [
    "from sklearn.linear_model import LogisticRegression\n",
    "from sklearn.tree import DecisionTreeClassifier\n",
    "from sklearn.ensemble import RandomForestClassifier\n",
    "from sklearn.neighbors import KNeighborsClassifier\n",
    "from sklearn.svm import SVC\n",
    "\n",
    "from sklearn.model_selection import StratifiedKFold,cross_val_score"
   ]
  },
  {
   "cell_type": "code",
   "execution_count": 43,
   "metadata": {
    "execution": {
     "iopub.execute_input": "2021-11-16T08:10:13.754399Z",
     "iopub.status.busy": "2021-11-16T08:10:13.753365Z",
     "iopub.status.idle": "2021-11-16T08:10:13.756275Z",
     "shell.execute_reply": "2021-11-16T08:10:13.755727Z",
     "shell.execute_reply.started": "2021-11-16T08:05:13.084777Z"
    },
    "id": "zWgz7OWbupyb",
    "papermill": {
     "duration": 0.066126,
     "end_time": "2021-11-16T08:10:13.756418",
     "exception": false,
     "start_time": "2021-11-16T08:10:13.690292",
     "status": "completed"
    },
    "tags": []
   },
   "outputs": [],
   "source": [
    "SKF = StratifiedKFold(n_splits=5, shuffle=True)"
   ]
  },
  {
   "cell_type": "code",
   "execution_count": 44,
   "metadata": {
    "execution": {
     "iopub.execute_input": "2021-11-16T08:10:13.882462Z",
     "iopub.status.busy": "2021-11-16T08:10:13.881756Z",
     "iopub.status.idle": "2021-11-16T08:12:56.779430Z",
     "shell.execute_reply": "2021-11-16T08:12:56.779959Z",
     "shell.execute_reply.started": "2021-11-16T08:05:13.091957Z"
    },
    "id": "I7wsl4IvjFmc",
    "outputId": "142d5e3a-c3f1-4b61-ad51-cd4c5332d78a",
    "papermill": {
     "duration": 162.963757,
     "end_time": "2021-11-16T08:12:56.780169",
     "exception": false,
     "start_time": "2021-11-16T08:10:13.816412",
     "status": "completed"
    },
    "tags": []
   },
   "outputs": [
    {
     "name": "stdout",
     "output_type": "stream",
     "text": [
      " Accuracy of LogisticRegression  : 78.3%\n",
      " Accuracy of DecisionTreeClassifier  : 68.57%\n",
      " Accuracy of RandomForestClassifier  : 76.98%\n",
      " Accuracy of KNeighborsClassifier  : 72.73%\n",
      " Accuracy of SVC  : 79.1%\n"
     ]
    }
   ],
   "source": [
    "for model in [LogisticRegression(),DecisionTreeClassifier(),RandomForestClassifier(),KNeighborsClassifier(),SVC()]:\n",
    "  model_name = str(model).split('(',1)[0]\n",
    "  print(f' Accuracy of {model_name}  : {round(cross_val_score(model,Train_content_tfidf,PS_reviews_data.new_score,cv=SKF,scoring=\"accuracy\").mean()*100,2)}%')"
   ]
  },
  {
   "cell_type": "code",
   "execution_count": null,
   "metadata": {},
   "outputs": [],
   "source": []
  }
 ],
 "metadata": {
  "kernelspec": {
   "display_name": "Python 3",
   "language": "python",
   "name": "python3"
  },
  "language_info": {
   "codemirror_mode": {
    "name": "ipython",
    "version": 3
   },
   "file_extension": ".py",
   "mimetype": "text/x-python",
   "name": "python",
   "nbconvert_exporter": "python",
   "pygments_lexer": "ipython3",
   "version": "3.7.6"
  },
  "papermill": {
   "default_parameters": {},
   "duration": 262.67799,
   "end_time": "2021-11-16T08:12:57.853830",
   "environment_variables": {},
   "exception": null,
   "input_path": "__notebook__.ipynb",
   "output_path": "__notebook__.ipynb",
   "parameters": {},
   "start_time": "2021-11-16T08:08:35.175840",
   "version": "2.3.3"
  }
 },
 "nbformat": 4,
 "nbformat_minor": 5
}
